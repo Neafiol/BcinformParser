{
 "cells": [
  {
   "cell_type": "code",
   "execution_count": 1,
   "metadata": {},
   "outputs": [],
   "source": [
    "import requests\n",
    "from bs4 import BeautifulSoup\n",
    "import re\n",
    "import json\n",
    "from tqdm import tqdm_notebook as tqdm\n",
    "from selenium import webdriver\n",
    "from selenium.webdriver.firefox.options import Options\n",
    "from selenium.webdriver.support.ui import WebDriverWait\n",
    "from selenium.webdriver.support import expected_conditions as EC\n",
    "from selenium.webdriver.common.by import By\n",
    "from selenium.webdriver.firefox.firefox_profile import FirefoxProfile\n",
    "import pickle\n",
    "import time\n",
    "import random\n",
    "import unicodedata"
   ]
  },
  {
   "cell_type": "code",
   "execution_count": 2,
   "metadata": {},
   "outputs": [],
   "source": [
    "# !pip install selenium"
   ]
  },
  {
   "cell_type": "code",
   "execution_count": 3,
   "metadata": {},
   "outputs": [],
   "source": [
    "options =  Options()\n",
    "    # options.set_headless(True)\n",
    "driver = webdriver.Firefox(options=options)"
   ]
  },
  {
   "cell_type": "code",
   "execution_count": null,
   "metadata": {},
   "outputs": [],
   "source": [
    "driver.get(\"https://bcinform.ru/spb/liteynyy-dvor.html\")"
   ]
  },
  {
   "cell_type": "code",
   "execution_count": null,
   "metadata": {},
   "outputs": [],
   "source": [
    "page  = driver.page_source \n",
    "soup = BeautifulSoup(page, 'html5lib')"
   ]
  },
  {
   "cell_type": "code",
   "execution_count": null,
   "metadata": {},
   "outputs": [],
   "source": [
    "soup.find(\"div\",{\"class\":\"name\"}).text.replace(\"  \",\"\").replace(\"\\n\",\"\")"
   ]
  },
  {
   "cell_type": "code",
   "execution_count": null,
   "metadata": {},
   "outputs": [],
   "source": [
    "re.findall(r\"\\d+\",soup.find(\"div\",{\"class\":\"tax-number\"}).text.replace(\"  \",\"\"))[0]"
   ]
  },
  {
   "cell_type": "code",
   "execution_count": null,
   "metadata": {},
   "outputs": [],
   "source": [
    "ininfo={}\n",
    "for i in soup.find(\"div\",{\"class\":\"services\"}).find_all(\"div\",{\"class\":\"single-service tooltipped\"}):\n",
    "    ininfo[i.span.text]=i.div.text\n",
    "\n",
    "outinfo=[]\n",
    "for i in soup.find(\"div\",{\"class\":\"services\"}).find_all(\"div\",{\"class\":re.compile(\"missing\")}):\n",
    "    outinfo+=[i.span.text]\n",
    "outinfo"
   ]
  },
  {
   "cell_type": "code",
   "execution_count": null,
   "metadata": {},
   "outputs": [],
   "source": [
    "ofs=[]\n",
    "for o in soup.find_all(\"tr\",{\"class\":\"object-id\"}):\n",
    "    ofiss={}\n",
    "    ofiss[\"name\"]=o.find_all(\"td\")[1].text\n",
    "    \n",
    "    ofiss[\"floor\"]=o.find_all(\"td\")[2].text.replace(\" \",\"\").replace(\"\\n\",\"\")\n",
    "    ofiss[\"meters\"]=o.find_all(\"td\")[3].text.replace(\" \",\"\").replace(\"\\n\",\"\")\n",
    "    ofiss[\"rub/metr\"]=o.find_all(\"td\")[4].text.replace(\" \",\"\").replace(\"\\n\",\"\")\n",
    "    ofiss[\"cost\"]=o.find_all(\"td\")[5].text.replace(\" \",\"\").replace(\"\\n\",\"\")\n",
    "    \n",
    "    ofs.append(ofiss)"
   ]
  },
  {
   "cell_type": "code",
   "execution_count": null,
   "metadata": {},
   "outputs": [],
   "source": [
    "ofs"
   ]
  },
  {
   "cell_type": "code",
   "execution_count": 4,
   "metadata": {},
   "outputs": [],
   "source": [
    "def pars(url):\n",
    "    driver.get(url)\n",
    "    item={}\n",
    "    page  = driver.page_source \n",
    "    soup = BeautifulSoup(page, 'html5lib')\n",
    "    \n",
    "    if soup.h1.text==\"Помещение сдано\":\n",
    "        item[\"name\"] = \"Здано\"\n",
    "        item[\"url\"]=url\n",
    "        return item\n",
    "\n",
    "    item[\"name\"]=soup.find_all(\"span\",{\"itemprop\":\"name\"})[-1].text\n",
    "    item[\"phone\"]=soup.find(\"div\",{\"class\":\"phone\"})[\"data-phone\"]\n",
    "    item[\"call_to\"]=soup.find(\"div\",{\"class\":\"name\"}).text.replace(\"  \",\"\").replace(\"\\n\",\"\")\n",
    "    item[\"adress\"]=soup.find(\"div\",{\"class\":\"street\"}).text.replace(\"  \",\"\").replace(\"\\n\",\"\").replace(\"\\t\",\"\")\n",
    "    item[\"url\"]=url\n",
    "    item[\"level\"]=soup.find(\"span\",{\"class\":\"white-text badge\"}).text\n",
    "    item[\"description\"] = soup.find(\"div\",{\"itemprop\":\"description\"}).text.replace(\"  \",\"\")\n",
    "    item[\"call-time\"] = soup.find(\"div\",{\"class\":\"time\"}).text.replace(\"  \",\"\").replace(\"\\n\",\"\")\n",
    "\n",
    "    if soup.find(\"div\",{\"class\":\"services\"}) is not None:\n",
    "        item[\"ininfo\"]={}\n",
    "        for i in soup.find(\"div\",{\"class\":\"services\"}).find_all(\"div\",{\"class\":\"single-service tooltipped\"}):\n",
    "            item[\"ininfo\"][i.span.text]=i.div.text\n",
    "\n",
    "        item[\"outinfo\"]=[]\n",
    "        for i in soup.find(\"div\",{\"class\":\"services\"}).find_all(\"div\",{\"class\":re.compile(\"missing\")}):\n",
    "            item[\"outinfo\"]+=[i.span.text]\n",
    "\n",
    "    ofs=[]\n",
    "    for o in soup.find_all(\"tr\",{\"class\":\"object-id\"}):\n",
    "        ofiss={}\n",
    "        try:\n",
    "            ofiss[\"name\"]=o.find_all(\"td\")[1].text\n",
    "            ofiss[\"floor\"]=o.find_all(\"td\")[2].text.replace(\" \",\"\").replace(\"\\n\",\"\")\n",
    "            ofiss[\"meters\"]=o.find_all(\"td\")[3].text.replace(\" \",\"\").replace(\"\\n\",\"\")\n",
    "            ofiss[\"rub/metr\"]=o.find_all(\"td\")[4].text.replace(\" \",\"\").replace(\"\\n\",\"\")\n",
    "            ofiss[\"cost\"]=o.find_all(\"td\")[5].text.replace(\" \",\"\").replace(\"\\n\",\"\")\n",
    "        except:\n",
    "            pass\n",
    "        ofs.append(ofiss)\n",
    "        item[\"etag\"]=ofiss[\"floor\"]\n",
    "        \n",
    "    item[\"ofis\"]=ofs\n",
    "    \n",
    "    if soup.find(\"div\",{\"class\":\"tax-number\"}) is not None:\n",
    "        item[\"tax-number\"] = re.findall(r\"\\d+\",soup.find(\"div\",{\"class\":\"tax-number\"}).text.replace(\"  \",\"\"))\n",
    "        if len(item[\"tax-number\"] )>0:\n",
    "            item[\"tax-number\"] =item[\"tax-number\"][0]\n",
    "\n",
    "   \n",
    "    return item"
   ]
  },
  {
   "cell_type": "code",
   "execution_count": 5,
   "metadata": {},
   "outputs": [
    {
     "data": {
      "text/plain": [
       "{'name': 'Старт-сервис',\n",
       " 'phone': '+7 (921) 326 05 33',\n",
       " 'call_to': 'Максим Викторович(отдел аренды)',\n",
       " 'adress': 'Салова ул. 27 / ад',\n",
       " 'url': 'https://bcinform.ru/spb/start-servis.html',\n",
       " 'level': 'C',\n",
       " 'description': '\\n\\nБизнес-центр «Старт-сервис» представляет собой деловой комплекс с современным оснащением и уютным интерьером. В шаговой доступности находится станция метро «Волковская». В БЦ возможна аренда складских и торговых помещений. Удачное размещение БЦ во Фрунзенском районе, близость остановок общественного транспорта обеспечат высокую мобильность.\\xa0\\nХарактеристика БЦ «Старт-сервис»\\nБизнес-центр «Старт-сервис» – это объект, включающий в себя офисные помещения. Объект оснащен необходимыми инженерными системами и коммуникациями. В бизнес-центре поддерживается высокий уровень безопасности, осуществляется пропускной режим. Для удобства арендаторов помещений, их гостей и деловых партнеров БЦ «Старт-сервис» имеет собственный паркинг.\\nАренда офиса в бизнес-центре «Старт-сервис»\\nАренда офиса в БЦ «Старт-сервис» – это возможность работать в комфортных условиях в районе с развитой инфраструктурой. В арендную ставку уже включена стоимость электроэнергии.\\n',\n",
       " 'call-time': 'Каждый день с 8:00 до 23:00',\n",
       " 'ininfo': {'Парковка': 'Гостевая парковка, всего  60 парковочных мест',\n",
       "  'Режим работы': 'Каждый день с 8:00 до 23:00',\n",
       "  'УСН или НДС': 'Упрощённая система налогообложения',\n",
       "  'Охрана': 'Пропуск по документам'},\n",
       " 'outinfo': ['Вентиляция', 'Банкоматы'],\n",
       " 'ofis': [],\n",
       " 'tax-number': '16'}"
      ]
     },
     "execution_count": 5,
     "metadata": {},
     "output_type": "execute_result"
    }
   ],
   "source": [
    "pars(\"https://bcinform.ru/spb/start-servis.html\")"
   ]
  },
  {
   "cell_type": "code",
   "execution_count": 6,
   "metadata": {},
   "outputs": [],
   "source": [
    "ofises=[]\n",
    "parsedurls=[]"
   ]
  },
  {
   "cell_type": "code",
   "execution_count": 16,
   "metadata": {},
   "outputs": [],
   "source": [
    "# parsedurls=[]\n",
    "# with open(\"ofises\",\"rb\") as f:\n",
    "#     ofises = pickle.load(f)\n",
    "    \n",
    "# with open(\"urls2\",\"rb\") as f:\n",
    "#     urls = pickle.load(f)\n",
    "for o in ofises:\n",
    "    parsedurls.append(o[\"url\"])"
   ]
  },
  {
   "cell_type": "code",
   "execution_count": 17,
   "metadata": {},
   "outputs": [],
   "source": [
    "def bash(bashCommand):\n",
    "    import subprocess\n",
    "    process = subprocess.Popen(bashCommand, stdout=subprocess.PIPE,shell=True)\n",
    "    output, error = process.communicate()\n",
    "    output = output.decode(\"utf-8\")[:-1]\n",
    "    return output\n"
   ]
  },
  {
   "cell_type": "code",
   "execution_count": 19,
   "metadata": {},
   "outputs": [
    {
     "data": {
      "application/vnd.jupyter.widget-view+json": {
       "model_id": "f4f04684a10e49b8999ade5e563e4515",
       "version_major": 2,
       "version_minor": 0
      },
      "text/plain": [
       "HBox(children=(IntProgress(value=0, max=775), HTML(value='')))"
      ]
     },
     "metadata": {},
     "output_type": "display_data"
    },
    {
     "name": "stdout",
     "output_type": "stream",
     "text": [
      "'NoneType' object has no attribute 'text'\n",
      "New ip: 23.94.74.103\n",
      "'NoneType' object has no attribute 'text'\n",
      "'NoneType' object has no attribute 'text'\n",
      "'NoneType' object has no attribute 'text'\n",
      "'NoneType' object has no attribute 'text'\n",
      "'NoneType' object has no attribute 'text'\n",
      "\n"
     ]
    }
   ],
   "source": [
    "pattern = \"\\d{1,3}.\\d{1,3}.\\d{1,3}.\\d{1,3}\"\n",
    "ips=[\"1\"]\n",
    "ip2=\"1\"\n",
    "\n",
    "for i,u in enumerate(tqdm(list(set(urls)))):\n",
    "    if u in parsedurls:\n",
    "        continue\n",
    "        \n",
    "    try:\n",
    "        ofises.append(pars(u))\n",
    "    except Exception as e:\n",
    "        if driver.page_source.find(\"Too many requests!\")==-1:\n",
    "            print(e)\n",
    "            continue\n",
    "            \n",
    "        driver.close()\n",
    "        while ip2 in ips:\n",
    "            s = bash(\"windscribe connect US-W\")\n",
    "            ip2=re.compile(pattern).findall(s)[1]\n",
    "        ips.append(ip2)\n",
    "        \n",
    "        driver = webdriver.Firefox(options=options)\n",
    "        print(\"New ip: \"+ip2)\n",
    "        time.sleep(2)  \n",
    "        try:\n",
    "            ofises.append(pars(u))\n",
    "        except:\n",
    "            time.sleep(30)\n",
    "            continue\n",
    "        \n",
    "        \n",
    "    parsedurls.append(\"https://bcinform.ru\"+u)\n",
    "    if i%5==1:\n",
    "        with open(\"bc_ofises\",\"wb\") as f:\n",
    "            pickle.dump(ofises,f)\n"
   ]
  },
  {
   "cell_type": "code",
   "execution_count": 20,
   "metadata": {},
   "outputs": [],
   "source": [
    "import json\n",
    "\n",
    "with open('output.jsonl', 'a') as f:\n",
    "    for entry in ofises:\n",
    "        json.dump(entry, f)\n",
    "        f.write('\\n')\n",
    "with open('output.jsonlines', 'a') as f:\n",
    "    for entry in ofises:\n",
    "        f.write(json.dumps(entry)+'\\n')"
   ]
  },
  {
   "cell_type": "code",
   "execution_count": 21,
   "metadata": {},
   "outputs": [],
   "source": [
    "with open(\"ofises\",\"wb\") as f:\n",
    "    pickle.dump(ofises,f)"
   ]
  },
  {
   "cell_type": "code",
   "execution_count": null,
   "metadata": {},
   "outputs": [],
   "source": [
    "regex_num = re.compile('https://bcinform.ru/spb/.*?html') \n",
    "urls=[]\n",
    "for i in tqdm(range(1,65)):\n",
    "    driver.get(f\"https://bcinform.ru/spb/biznes-centry/page-{i}/\")\n",
    "    page  = driver.page_source \n",
    "    ur= list(set(regex_num.findall(page)))\n",
    "    if len(ur)==0:\n",
    "        time.sleep(random.randint(50,150))\n",
    "    else:\n",
    "        urls+=ur\n",
    "    time.sleep(random.randint(5,15))"
   ]
  },
  {
   "cell_type": "code",
   "execution_count": 11,
   "metadata": {},
   "outputs": [],
   "source": [
    "with open(\"bc_urls\",\"rb\") as f:\n",
    "    urls = pickle.load(f)"
   ]
  },
  {
   "cell_type": "code",
   "execution_count": 12,
   "metadata": {},
   "outputs": [],
   "source": [
    "with open(\"bc_ofises\",\"rb\") as f:\n",
    "    ofises = pickle.load(f)"
   ]
  },
  {
   "cell_type": "code",
   "execution_count": 14,
   "metadata": {},
   "outputs": [
    {
     "data": {
      "text/plain": [
       "571"
      ]
     },
     "execution_count": 14,
     "metadata": {},
     "output_type": "execute_result"
    }
   ],
   "source": [
    "len(ofises)"
   ]
  },
  {
   "cell_type": "code",
   "execution_count": 15,
   "metadata": {},
   "outputs": [
    {
     "data": {
      "text/plain": [
       "{'name': 'Московское шоссе 179',\n",
       " 'phone': '+7 (921) 325 79 85',\n",
       " 'call_to': 'Алексей Иванович(отдел аренды)',\n",
       " 'adress': 'Московское ш. 179 / 2',\n",
       " 'url': 'https://bcinform.ru/spb/moskovskoe-shoss-179.html',\n",
       " 'level': 'B',\n",
       " 'description': '\\n\\n\\n',\n",
       " 'call-time': 'Круглосуточно',\n",
       " 'ininfo': {'Парковка': 'Всего  100 парковочных мест',\n",
       "  'Режим работы': 'Круглосуточно',\n",
       "  'УСН или НДС': 'НДС включен в стоимость',\n",
       "  'Охрана': 'Строго по документам'},\n",
       " 'outinfo': ['Клининг', 'Банкоматы', 'Интернет и телефония'],\n",
       " 'ofis': [{'name': '\\n                                                            \\n                                                                Офис 34.2 м2                                                                \\n                                                            ',\n",
       "   'floor': '4',\n",
       "   'meters': '550',\n",
       "   'rub/metr': '18810'},\n",
       "  {'name': '\\n                                                            \\n                                                                Офис 51 м2                                                                \\n                                                            ',\n",
       "   'floor': '4',\n",
       "   'meters': '550',\n",
       "   'rub/metr': '28050'},\n",
       "  {'name': '\\n                                                            \\n                                                                Офис 51.5 м2                                                                \\n                                                            ',\n",
       "   'floor': '4',\n",
       "   'meters': '550',\n",
       "   'rub/metr': '28160'},\n",
       "  {'name': '\\n                                                            \\n                                                                Офис 56 м2                                                                \\n                                                            ',\n",
       "   'floor': '4',\n",
       "   'meters': '550',\n",
       "   'rub/metr': '30800'},\n",
       "  {'name': '\\n                                                            \\n                                                                Офис 57.9 м2                                                                \\n                                                            ',\n",
       "   'floor': '4',\n",
       "   'meters': '550',\n",
       "   'rub/metr': '31845'},\n",
       "  {'name': '\\n                                                            \\n                                                                Офис 84.9 м2                                                                \\n                                                            ',\n",
       "   'floor': '4',\n",
       "   'meters': '550',\n",
       "   'rub/metr': '46695'},\n",
       "  {'name': '\\n                                                            \\n                                                                Офис 90.2 м2                                                                \\n                                                            ',\n",
       "   'floor': '4',\n",
       "   'meters': '550',\n",
       "   'rub/metr': '49610'},\n",
       "  {'name': '\\n                                                            \\n                                                                Офис 109 м2                                                                \\n                                                            ',\n",
       "   'floor': '4',\n",
       "   'meters': '550',\n",
       "   'rub/metr': '59950'},\n",
       "  {'name': '\\n                                                            \\n                                                                Офис 116 м2                                                                \\n                                                            ',\n",
       "   'floor': '4',\n",
       "   'meters': '550',\n",
       "   'rub/metr': '63800'},\n",
       "  {'name': '\\n                                                            \\n                                                                Офис 119.1 м2                                                                \\n                                                            ',\n",
       "   'floor': '4',\n",
       "   'meters': '550',\n",
       "   'rub/metr': '65505'},\n",
       "  {'name': '\\n                                                            \\n                                                                Офис 136.7 м2                                                                \\n                                                            ',\n",
       "   'floor': '4',\n",
       "   'meters': '550',\n",
       "   'rub/metr': '75185'},\n",
       "  {'name': '\\n                                                            \\n                                                                Офис 141.2 м2                                                                \\n                                                            ',\n",
       "   'floor': '4',\n",
       "   'meters': '550',\n",
       "   'rub/metr': '77660'},\n",
       "  {'name': '\\n                                                            \\n                                                                Офис 148.1 м2                                                                \\n                                                            ',\n",
       "   'floor': '4',\n",
       "   'meters': '550',\n",
       "   'rub/metr': '81455'},\n",
       "  {'name': '\\n                                                            \\n                                                                Офис 169 м2                                                                \\n                                                            ',\n",
       "   'floor': '4',\n",
       "   'meters': '550',\n",
       "   'rub/metr': '92950'},\n",
       "  {'name': '\\n                                                            \\n                                                                Офис 174 м2                                                                \\n                                                            ',\n",
       "   'floor': '4',\n",
       "   'meters': '550',\n",
       "   'rub/metr': '95700'},\n",
       "  {'name': '\\n                                                            \\n                                                                Офис 192.7 м2                                                                \\n                                                            ',\n",
       "   'floor': '4',\n",
       "   'meters': '550',\n",
       "   'rub/metr': '105985'},\n",
       "  {'name': '\\n                                                            \\n                                                                Офис 199.1 м2                                                                \\n                                                            ',\n",
       "   'floor': '4',\n",
       "   'meters': '550',\n",
       "   'rub/metr': '109505'},\n",
       "  {'name': '\\n                                                            \\n                                                                Офис 203.2 м2                                                                \\n                                                            ',\n",
       "   'floor': '4',\n",
       "   'meters': '550',\n",
       "   'rub/metr': '111760'},\n",
       "  {'name': '\\n                                                            \\n                                                                Офис 208.2 м2                                                                \\n                                                            ',\n",
       "   'floor': '4',\n",
       "   'meters': '550',\n",
       "   'rub/metr': '114510'},\n",
       "  {'name': '\\n                                                            \\n                                                                Офис 226.1 м2                                                                \\n                                                            ',\n",
       "   'floor': '4',\n",
       "   'meters': '550',\n",
       "   'rub/metr': '124355'},\n",
       "  {'name': '\\n                                                            \\n                                                                Офис 250.6 м2                                                                \\n                                                            ',\n",
       "   'floor': '4',\n",
       "   'meters': '550',\n",
       "   'rub/metr': '137830'},\n",
       "  {'name': '\\n                                                            \\n                                                                Офис 259.2 м2                                                                \\n                                                            ',\n",
       "   'floor': '4',\n",
       "   'meters': '550',\n",
       "   'rub/metr': '142560'},\n",
       "  {'name': '\\n                                                            \\n                                                                Офис 264.2 м2                                                                \\n                                                            ',\n",
       "   'floor': '4',\n",
       "   'meters': '550',\n",
       "   'rub/metr': '145310'},\n",
       "  {'name': '\\n                                                            \\n                                                                Офис 277.6 м2                                                                \\n                                                            ',\n",
       "   'floor': '4',\n",
       "   'meters': '550',\n",
       "   'rub/metr': '152680'},\n",
       "  {'name': '\\n                                                            \\n                                                                Офис 301.7 м2                                                                \\n                                                            ',\n",
       "   'floor': '4',\n",
       "   'meters': '550',\n",
       "   'rub/metr': '165935'},\n",
       "  {'name': '\\n                                                            \\n                                                                Офис 310.2 м2                                                                \\n                                                            ',\n",
       "   'floor': '4',\n",
       "   'meters': '550',\n",
       "   'rub/metr': '170610'},\n",
       "  {'name': '\\n                                                            \\n                                                                Офис 315.2 м2                                                                \\n                                                            ',\n",
       "   'floor': '4',\n",
       "   'meters': '550',\n",
       "   'rub/metr': '173360'},\n",
       "  {'name': '\\n                                                            \\n                                                                Офис 335.5 м2                                                                \\n                                                            ',\n",
       "   'floor': '4',\n",
       "   'meters': '550',\n",
       "   'rub/metr': '184525'},\n",
       "  {'name': '\\n                                                            \\n                                                                Офис 359.6 м2                                                                \\n                                                            ',\n",
       "   'floor': '4',\n",
       "   'meters': '550',\n",
       "   'rub/metr': '197780'},\n",
       "  {'name': '\\n                                                            \\n                                                                Офис 366.6 м2                                                                \\n                                                            ',\n",
       "   'floor': '4',\n",
       "   'meters': '550',\n",
       "   'rub/metr': '201630'},\n",
       "  {'name': '\\n                                                            \\n                                                                Офис 419.6 м2                                                                \\n                                                            ',\n",
       "   'floor': '4',\n",
       "   'meters': '550',\n",
       "   'rub/metr': '230780'},\n",
       "  {'name': '\\n                                                            \\n                                                                Офис 424.6 м2                                                                \\n                                                            ',\n",
       "   'floor': '4',\n",
       "   'meters': '550',\n",
       "   'rub/metr': '233529'},\n",
       "  {'name': '\\n                                                            \\n                                                                Офис 444.5 м2                                                                \\n                                                            ',\n",
       "   'floor': '4',\n",
       "   'meters': '550',\n",
       "   'rub/metr': '244475'},\n",
       "  {'name': '\\n                                                            \\n                                                                Офис 451.5 м2                                                                \\n                                                            ',\n",
       "   'floor': '4',\n",
       "   'meters': '550',\n",
       "   'rub/metr': '248325'},\n",
       "  {'name': '\\n                                                            \\n                                                                Офис 475.6 м2                                                                \\n                                                            ',\n",
       "   'floor': '4',\n",
       "   'meters': '550',\n",
       "   'rub/metr': '261579'},\n",
       "  {'name': '\\n                                                            \\n                                                                Офис 504.5 м2                                                                \\n                                                            ',\n",
       "   'floor': '4',\n",
       "   'meters': '550',\n",
       "   'rub/metr': '277475'},\n",
       "  {'name': '\\n                                                            \\n                                                                Офис 509.5 м2                                                                \\n                                                            ',\n",
       "   'floor': '4',\n",
       "   'meters': '550',\n",
       "   'rub/metr': '280225'},\n",
       "  {'name': '\\n                                                            \\n                                                                Офис 528.6 м2                                                                \\n                                                            ',\n",
       "   'floor': '4',\n",
       "   'meters': '550',\n",
       "   'rub/metr': '290729'},\n",
       "  {'name': '\\n                                                            \\n                                                                Офис 535.6 м2                                                                \\n                                                            ',\n",
       "   'floor': '4',\n",
       "   'meters': '550',\n",
       "   'rub/metr': '294580'},\n",
       "  {'name': '\\n                                                            \\n                                                                Офис 540.6 м2                                                                \\n                                                            ',\n",
       "   'floor': '4',\n",
       "   'meters': '550',\n",
       "   'rub/metr': '297329'},\n",
       "  {'name': '\\n                                                            \\n                                                                Офис 593.6 м2                                                                \\n                                                            ',\n",
       "   'floor': '4',\n",
       "   'meters': '550',\n",
       "   'rub/metr': '326480'},\n",
       "  {'name': '\\n                                                            \\n                                                                Офис 613.5 м2                                                                \\n                                                            ',\n",
       "   'floor': '4',\n",
       "   'meters': '550',\n",
       "   'rub/metr': '337424'},\n",
       "  {'name': '\\n                                                            \\n                                                                Офис 620.5 м2                                                                \\n                                                            ',\n",
       "   'floor': '4',\n",
       "   'meters': '550',\n",
       "   'rub/metr': '341274'},\n",
       "  {'name': '\\n                                                            \\n                                                                Офис 644.6 м2                                                                \\n                                                            ',\n",
       "   'floor': '4',\n",
       "   'meters': '550',\n",
       "   'rub/metr': '354529'},\n",
       "  {'name': '\\n                                                            \\n                                                                Офис 678.5 м2                                                                \\n                                                            ',\n",
       "   'floor': '4',\n",
       "   'meters': '550',\n",
       "   'rub/metr': '373175'},\n",
       "  {'name': '\\n                                                            \\n                                                                Офис 702.6 м2                                                                \\n                                                            ',\n",
       "   'floor': '4',\n",
       "   'meters': '550',\n",
       "   'rub/metr': '386429'},\n",
       "  {'name': '\\n                                                            \\n                                                                Офис 709.6 м2                                                                \\n                                                            ',\n",
       "   'floor': '4',\n",
       "   'meters': '550',\n",
       "   'rub/metr': '390280'},\n",
       "  {'name': '\\n                                                            \\n                                                                Офис 787.5 м2                                                                \\n                                                            ',\n",
       "   'floor': '4',\n",
       "   'meters': '550',\n",
       "   'rub/metr': '433124'},\n",
       "  {'name': '\\n                                                            \\n                                                                Офис 794.5 м2                                                                \\n                                                            ',\n",
       "   'floor': '4',\n",
       "   'meters': '550',\n",
       "   'rub/metr': '436975'},\n",
       "  {'name': '\\n                                                            \\n                                                                Офис 818.6 м2                                                                \\n                                                            ',\n",
       "   'floor': '4',\n",
       "   'meters': '550',\n",
       "   'rub/metr': '450230'}],\n",
       " 'etag': '4',\n",
       " 'tax-number': '10'}"
      ]
     },
     "execution_count": 15,
     "metadata": {},
     "output_type": "execute_result"
    }
   ],
   "source": [
    "ofises[0]"
   ]
  },
  {
   "cell_type": "code",
   "execution_count": null,
   "metadata": {},
   "outputs": [],
   "source": []
  }
 ],
 "metadata": {
  "kernelspec": {
   "display_name": "Python 3",
   "language": "python",
   "name": "python3"
  },
  "language_info": {
   "codemirror_mode": {
    "name": "ipython",
    "version": 3
   },
   "file_extension": ".py",
   "mimetype": "text/x-python",
   "name": "python",
   "nbconvert_exporter": "python",
   "pygments_lexer": "ipython3",
   "version": "3.7.4"
  }
 },
 "nbformat": 4,
 "nbformat_minor": 2
}
